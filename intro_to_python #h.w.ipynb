{
 "cells": [
  {
   "cell_type": "code",
   "execution_count": 192,
   "metadata": {},
   "outputs": [
    {
     "name": "stdout",
     "output_type": "stream",
     "text": [
      "Account balance:  1547115.768737027\n",
      "Investment return:  10014.0\n",
      "You can retire at age 49 with a desired retirement balance of $ 672780.0\n"
     ]
    }
   ],
   "source": [
    "#H.W.: turn static inputs into dynamic inputs\n",
    "acct_bal = int(input(\"What is your current account balance? \"))\n",
    "deposit = int(input(\"How much will you contribute every year? \"))\n",
    "cur_age = int(input (\"What is your current age? \"))\n",
    "ret_age= int(input(\"Age of Retirement? \"))\n",
    "salary = int(input (\"What is  your salary: \"))\n",
    "rf_rate = float(input (\"What is the risk-freerate: \"))\n",
    "match_rate = float(input (\"What is your employer's match rate: \"))\n",
    "\n",
    "initial_invest=  int(input(\"Initial investments: \"))\n",
    "annual_return = float(input(\"Anual investment return: \")) #Assume 14% investment return\n",
    "\n",
    "matching = float(0)\n",
    "retacct_bal=float(0)\n",
    "\n",
    "for year in range(cur_age, ret_age):\n",
    "    salary *= 1 + rf_rate \n",
    "    matching = salary * match_rate\n",
    "    \n",
    "    invest_return = (1 + (annual_return/100))*initial_invest #Calculates investment return\n",
    "    acct_bal += deposit + matching + invest_return\n",
    "\n",
    "#H.W: Create a while-loop that estimates the age and retirement account balance.\n",
    "    while salary < 100000:\n",
    "        salary *= 1 + rf_rate\n",
    "        matching = min(salary * match_rate, deposit * 0.05) \n",
    "        retacct_bal += deposit + matching + invest_return \n",
    "        cur_age += 1 #increments age by one per loop iteration\n",
    "\n",
    "print((\"Account balance: \"),(acct_bal)) \n",
    "print(\"Investment return: \",invest_return)\n",
    "\n",
    "print(\"You can retire at age\", cur_age, \"with a retirement balance of $\", retacct_bal)"
   ]
  }
 ],
 "metadata": {
  "kernelspec": {
   "display_name": "Python 3",
   "language": "python",
   "name": "python3"
  },
  "language_info": {
   "codemirror_mode": {
    "name": "ipython",
    "version": 3
   },
   "file_extension": ".py",
   "mimetype": "text/x-python",
   "name": "python",
   "nbconvert_exporter": "python",
   "pygments_lexer": "ipython3",
   "version": "3.11.1"
  }
 },
 "nbformat": 4,
 "nbformat_minor": 2
}
