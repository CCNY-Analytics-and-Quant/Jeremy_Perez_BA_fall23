{
 "cells": [
  {
   "cell_type": "code",
   "execution_count": null,
   "metadata": {},
   "outputs": [],
   "source": [
    "#H.W.: dynamic inputs and include 14% annual return\n",
    "acct_bal = int(input(\"What is your current account balance? \"))\n",
    "deposit = int(input(\"How much will you contribute every year? \"))\n",
    "cur_age = int(input (\"What is your current age? \"))\n",
    "ret_age= int(input(\"Age of Retirement? \"))\n",
    "salary = int(input (\"What is  your salary: \"))\n",
    "rf_rate = 0.025\n",
    "match_rate = 0.05\n",
    "\n",
    "initial_invest=  int(input(\"Initial investments: \"))\n",
    "annual_return = 0.14\n",
    "\n",
    "matching = float(0)\n",
    "retacct_bal=float(0)\n",
    "\n",
    "\n",
    "for year in range(cur_age, ret_age):\n",
    "   salary *= 1 + rf_rate \n",
    "   matching = salary * match_rate\n",
    "   invest_return = (1 + (annual_return/100))*initial_invest #Calculates investment return\n",
    "   acct_bal += deposit + matching + invest_return\n",
    "\n",
    "#H.W: Create a while-loop that estimates the age and retirement account balance.\n",
    "   while salary < 100000:\n",
    "      salary *= 1 + rf_rate\n",
    "      matching = min(salary * match_rate, deposit * 0.05) \n",
    "      retacct_bal += deposit + matching + invest_return \n",
    "      cur_age += 1 #increments age by one per loop iteration\n",
    "\n",
    "print((\"Account balance: \"),round(acct_bal,2)) \n",
    "print(\"Investment return: \",round(invest_return,2))\n",
    "\n",
    "print(\"You can retire at age\", cur_age, \"with a retirement balance of $\", round(retacct_bal,2))"
   ]
  },
  {
   "cell_type": "code",
   "execution_count": null,
   "metadata": {},
   "outputs": [],
   "source": [
    "def calculate_account_balance(acct_bal, deposit, cur_age, ret_age, salary, rf_rate, match_rate, initial_invest, annual_return):\n",
    "    matching = 0\n",
    "\n",
    "    for year in range(cur_age, ret_age):\n",
    "        salary *= 1 + rf_rate\n",
    "        matching = salary * match_rate\n",
    "        invest_return = (1 + (annual_return / 100)) * initial_invest\n",
    "        acct_bal += deposit + matching + invest_return\n",
    "\n",
    "    return acct_bal\n",
    "\n",
    "\n",
    "final_balance = calculate_account_balance(acct_bal, deposit, cur_age, ret_age, salary, rf_rate, match_rate, initial_invest, annual_return)\n",
    "print(\"Account balance at retirement age:\", round(final_balance,2))\n"
   ]
  },
  {
   "cell_type": "code",
   "execution_count": null,
   "metadata": {},
   "outputs": [],
   "source": [
    "def estimate_retirement_balance(cur_age, salary, rf_rate, match_rate, deposit, invest_return):\n",
    "    retacct_bal = 0\n",
    "\n",
    "    while salary < 100000:\n",
    "        salary *= 1 + rf_rate\n",
    "        matching = min(salary * match_rate, deposit * 0.05)\n",
    "        retacct_bal += deposit + matching + invest_return\n",
    "        cur_age += 1  # Increments age by one per loop iteration\n",
    "\n",
    "    return retacct_bal\n",
    "\n",
    "retirement_balance = estimate_retirement_balance(cur_age, salary, rf_rate, match_rate, deposit, invest_return)\n",
    "print(round(retirement_balance,2))\n"
   ]
  }
 ],
 "metadata": {
  "kernelspec": {
   "display_name": "Python 3",
   "language": "python",
   "name": "python3"
  },
  "language_info": {
   "name": "python",
   "version": "3.11.1"
  }
 },
 "nbformat": 4,
 "nbformat_minor": 2
}
